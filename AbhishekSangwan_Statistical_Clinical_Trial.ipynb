{
 "cells": [
  {
   "cell_type": "code",
   "execution_count": null,
   "id": "515f4908-a28e-4586-95ae-4aeda5a8253c",
   "metadata": {},
   "outputs": [
    {
     "name": "stdout",
     "output_type": "stream",
     "text": [
      "Requirement already satisfied: lifelines in c:\\users\\sangw\\appdata\\local\\programs\\python\\python312\\lib\\site-packages (0.30.0)\n",
      "Requirement already satisfied: numpy>=1.14.0 in c:\\users\\sangw\\appdata\\local\\programs\\python\\python312\\lib\\site-packages (from lifelines) (1.26.3)\n",
      "Requirement already satisfied: scipy>=1.7.0 in c:\\users\\sangw\\appdata\\local\\programs\\python\\python312\\lib\\site-packages (from lifelines) (1.12.0)\n",
      "Requirement already satisfied: pandas>=2.1 in c:\\users\\sangw\\appdata\\local\\programs\\python\\python312\\lib\\site-packages (from lifelines) (2.2.0)\n",
      "Requirement already satisfied: matplotlib>=3.0 in c:\\users\\sangw\\appdata\\local\\programs\\python\\python312\\lib\\site-packages (from lifelines) (3.10.3)\n",
      "Requirement already satisfied: autograd>=1.5 in c:\\users\\sangw\\appdata\\local\\programs\\python\\python312\\lib\\site-packages (from lifelines) (1.8.0)\n",
      "Requirement already satisfied: autograd-gamma>=0.3 in c:\\users\\sangw\\appdata\\local\\programs\\python\\python312\\lib\\site-packages (from lifelines) (0.5.0)\n",
      "Requirement already satisfied: formulaic>=0.2.2 in c:\\users\\sangw\\appdata\\local\\programs\\python\\python312\\lib\\site-packages (from lifelines) (1.2.0)\n",
      "Requirement already satisfied: interface-meta>=1.2.0 in c:\\users\\sangw\\appdata\\local\\programs\\python\\python312\\lib\\site-packages (from formulaic>=0.2.2->lifelines) (1.3.0)\n",
      "Requirement already satisfied: narwhals>=1.17 in c:\\users\\sangw\\appdata\\local\\programs\\python\\python312\\lib\\site-packages (from formulaic>=0.2.2->lifelines) (1.47.0)\n",
      "Requirement already satisfied: typing-extensions>=4.2.0 in c:\\users\\sangw\\appdata\\local\\programs\\python\\python312\\lib\\site-packages (from formulaic>=0.2.2->lifelines) (4.12.2)\n",
      "Requirement already satisfied: wrapt>=1.0 in c:\\users\\sangw\\appdata\\local\\programs\\python\\python312\\lib\\site-packages (from formulaic>=0.2.2->lifelines) (1.17.2)\n",
      "Requirement already satisfied: contourpy>=1.0.1 in c:\\users\\sangw\\appdata\\local\\programs\\python\\python312\\lib\\site-packages (from matplotlib>=3.0->lifelines) (1.3.2)\n",
      "Requirement already satisfied: cycler>=0.10 in c:\\users\\sangw\\appdata\\local\\programs\\python\\python312\\lib\\site-packages (from matplotlib>=3.0->lifelines) (0.12.1)\n",
      "Requirement already satisfied: fonttools>=4.22.0 in c:\\users\\sangw\\appdata\\local\\programs\\python\\python312\\lib\\site-packages (from matplotlib>=3.0->lifelines) (4.58.0)\n",
      "Requirement already satisfied: kiwisolver>=1.3.1 in c:\\users\\sangw\\appdata\\local\\programs\\python\\python312\\lib\\site-packages (from matplotlib>=3.0->lifelines) (1.4.8)\n",
      "Requirement already satisfied: packaging>=20.0 in c:\\users\\sangw\\appdata\\local\\programs\\python\\python312\\lib\\site-packages (from matplotlib>=3.0->lifelines) (24.2)\n",
      "Requirement already satisfied: pillow>=8 in c:\\users\\sangw\\appdata\\local\\programs\\python\\python312\\lib\\site-packages (from matplotlib>=3.0->lifelines) (11.2.1)\n",
      "Requirement already satisfied: pyparsing>=2.3.1 in c:\\users\\sangw\\appdata\\local\\programs\\python\\python312\\lib\\site-packages (from matplotlib>=3.0->lifelines) (3.2.3)\n",
      "Requirement already satisfied: python-dateutil>=2.7 in c:\\users\\sangw\\appdata\\local\\programs\\python\\python312\\lib\\site-packages (from matplotlib>=3.0->lifelines) (2.8.2)\n",
      "Requirement already satisfied: pytz>=2020.1 in c:\\users\\sangw\\appdata\\local\\programs\\python\\python312\\lib\\site-packages (from pandas>=2.1->lifelines) (2023.3.post1)\n",
      "Requirement already satisfied: tzdata>=2022.7 in c:\\users\\sangw\\appdata\\local\\programs\\python\\python312\\lib\\site-packages (from pandas>=2.1->lifelines) (2023.4)\n",
      "Requirement already satisfied: six>=1.5 in c:\\users\\sangw\\appdata\\local\\programs\\python\\python312\\lib\\site-packages (from python-dateutil>=2.7->matplotlib>=3.0->lifelines) (1.16.0)\n"
     ]
    },
    {
     "name": "stderr",
     "output_type": "stream",
     "text": [
      "C:\\Users\\sangw\\AppData\\Local\\Temp\\ipykernel_22644\\2540803086.py:3: DeprecationWarning: \n",
      "Pyarrow will become a required dependency of pandas in the next major release of pandas (pandas 3.0),\n",
      "(to allow more performant data types, such as the Arrow string type, and better interoperability with other libraries)\n",
      "but was not found to be installed on your system.\n",
      "If this would cause problems for you,\n",
      "please provide us feedback at https://github.com/pandas-dev/pandas/issues/54466\n",
      "        \n",
      "  import pandas as pd\n"
     ]
    }
   ],
   "source": [
    "!pip install lifelines \n",
    "\n",
    "import pandas as pd\n",
    "import matplotlib.pyplot as plt\n",
    "from lifelines import KaplanMeierFitter, CoxPHFitter\n",
    "from lifelines.statistics import logrank_test"
   ]
  },
  {
   "cell_type": "code",
   "execution_count": null,
   "id": "10a41c42-e295-48f6-920b-2959c5b3c6e5",
   "metadata": {},
   "outputs": [],
   "source": [
    "df=pd.read_csv('veteran.csv')\n",
    "print(df.head())\n",
    "print(df.info())"
   ]
  },
  {
   "cell_type": "code",
   "execution_count": null,
   "id": "1c024659-8a09-43be-b0bd-a7b8b3d3b1d0",
   "metadata": {},
   "outputs": [],
   "source": [
    "#Seperate first and second row per patient: Y=1 is death, Y=0 is start or censoring\n",
    "df_event=df[df['Y']==1]\n",
    "kmf=KaplanMeierFitter()\n",
    "\n",
    "#Example: overall KM curve\n",
    "kmf.fit(durations=df_event['TIME'],event_observed=df_event['Y'])\n",
    "kmf.plot_survival_function()\n",
    "plt.title('Kaplan-Meier Survival Curve (Overall)')\n",
    "plt.show()\n",
    "\n",
    "#Example by treatment group\n",
    "for trt_group in df_event['trt'].unique():\n",
    "    mask=df_event['trt']==trt_group\n",
    "    kmf.fit(df_event[mask]['TIME'],df_event[mask]['Y'],label=str(trt_group))\n",
    "    kmf.plot_survival_function()\n",
    "\n",
    "plt.title('KM Survival Curves by Treatment')\n",
    "plt.show()"
   ]
  },
  {
   "cell_type": "code",
   "execution_count": null,
   "id": "766dc9d1-7519-42a6-949c-9139b018ff23",
   "metadata": {},
   "outputs": [],
   "source": [
    "for trt_group in df_event['trt'].unique():\n",
    "    mask=df_event['trt'] == trt_group\n",
    "    kmf.fit(df_event[mask]['TIME'],df_event[mask]['Y'],label=str(trt_group))\n",
    "    print(f\"Median survival for treatment {trt_group}: {kmf.median_survival_time_}\")"
   ]
  },
  {
   "cell_type": "code",
   "execution_count": null,
   "id": "bcedd191-09e6-4d05-aae4-c857069c0536",
   "metadata": {},
   "outputs": [],
   "source": [
    "#log-Rank Test Conducted\n",
    "from lifelines.statistics import logrank_test\n",
    "\n",
    "group1=df_event[df_event['trt']=='standard']\n",
    "group2=df_event[df_event['trt']=='test']\n",
    "\n",
    "results=logrank_test(group1['TIME'],group2['TIME'], event_observed_A=group1['Y'], event_observed_B=group2['Y'])\n",
    "print(results.summary)"
   ]
  },
  {
   "cell_type": "code",
   "execution_count": null,
   "id": "bcde70a0-e617-47d8-ba39-84df36af6500",
   "metadata": {},
   "outputs": [],
   "source": [
    "from lifelines import CoxPHFitter\n",
    "\n",
    "#Prepare wide-format data: one row per subject\n",
    "df_wide=df_event.copy()\n",
    "\n",
    "#Encode categorical variables\n",
    "df_wide=pd.get_dummies(df_wide,columns=['trt','celltype','priortherapy'],drop_first=True)\n",
    "\n",
    "cph=CoxPHFitter()\n",
    "cph.fit(df_wide,duration_col='TIME', event_col='Y')\n",
    "cph.print_summary()\n",
    "cph.plot()\n",
    "plt.show()"
   ]
  },
  {
   "cell_type": "code",
   "execution_count": null,
   "id": "4bf50993-c769-420c-9149-d7bca6bf9fd3",
   "metadata": {},
   "outputs": [],
   "source": [
    "#Step 1: Seperate rows by Y\n",
    "df_start=df[df[\"Y\"]==0].copy() #Start of observation/censoring\n",
    "df_event=df[df[\"Y\"]==1].copy() #Death\n",
    "\n",
    "#Step 2: Merge on ID\n",
    "#Bring over TIME as stop and Y as event\n",
    "\n",
    "df_event=df_event.rename(columns={\"TIME\":\"stop\",\"Y\":\"event\"})\n",
    "df_start=df_start.rename(columns={\"TIME\":\"start\"})\n",
    "\n",
    "df_timevarying=pd.merge(\n",
    "    df_start,\n",
    "    df_event[[\"ID\",\"stop\",\"event\"]],\n",
    "    on=\"ID\"\n",
    ")\n",
    "\n",
    "#Step 3:One hot encode categorical variables\n",
    "df_timevarying=pd.get_dummies(df_timevarying,columns=[\"trt\",\"celltype\",\"priortherapy\"], drop_first=True)\n",
    "\n",
    "#Final check\n",
    "print(df_timevarying[['ID','start','stop','event']].head())"
   ]
  },
  {
   "cell_type": "code",
   "execution_count": null,
   "id": "c89035cf-2ed0-471e-ac9f-b35a28aeee9b",
   "metadata": {},
   "outputs": [],
   "source": [
    "import numpy as np\n",
    "\n",
    "#Check for NaNs\n",
    "print(\"Any NaNs?\", df_timevarying.isnull().values.any())\n",
    "\n",
    "#Check for infinite values\n",
    "print(\"Any Infs?\", np.isinf(df_timevarying.select_dtypes(include=[np.number])).values.any())"
   ]
  },
  {
   "cell_type": "code",
   "execution_count": null,
   "id": "bb9e9da6-d0c8-4cee-b2ff-085c5d4ccd35",
   "metadata": {},
   "outputs": [],
   "source": [
    "print(df_timevarying[df_timevarying.isnull().any(axis=1)])\n",
    "print(df_timevarying[np.isinf(df_timevarying.select_dtypes(include=[np.number])).any(axis=1)])"
   ]
  },
  {
   "cell_type": "code",
   "execution_count": null,
   "id": "7cb7224b-3135-4175-b9ea-d7ff3910b6b0",
   "metadata": {},
   "outputs": [],
   "source": [
    "#Ensure 'Y' is not in the modeling data\n",
    "if 'Y' in df_timevarying.columns:\n",
    "    df_timevarying.drop(columns=['Y'],inplace=True)"
   ]
  },
  {
   "cell_type": "code",
   "execution_count": null,
   "id": "16e79c6c-dd32-4e41-9b28-5f255942dcc9",
   "metadata": {},
   "outputs": [],
   "source": [
    "print(df_timevarying.columns)"
   ]
  },
  {
   "cell_type": "code",
   "execution_count": null,
   "id": "40349746-40fe-46b3-989d-d44a0ef37f48",
   "metadata": {},
   "outputs": [],
   "source": [
    "from lifelines import CoxTimeVaryingFitter\n",
    "\n",
    "#Initialize the Cox time varying model\n",
    "ctv=CoxTimeVaryingFitter()\n",
    "\n",
    "#Fit the model using the transformed dataframe\n",
    "ctv.fit(\n",
    "    df_timevarying,\n",
    "    id_col='ID',\n",
    "    start_col='start',\n",
    "    stop_col='stop',\n",
    "    event_col='event' #This reflect the renamed column\n",
    ")\n",
    "\n",
    "#Print model summary\n",
    "ctv.print_summary()\n",
    "\n",
    "#Plot coefficients\n",
    "ctv.plot()\n",
    "plt.title(\"Cox Time-Varying Coefficients\")\n",
    "plt.show()"
   ]
  },
  {
   "cell_type": "code",
   "execution_count": null,
   "id": "b0d385cc-68bc-4af3-9951-f53b45c90c20",
   "metadata": {},
   "outputs": [],
   "source": [
    "from lifelines import KaplanMeierFitter\n",
    "import matplotlib.pyplot as plt\n",
    "\n",
    "kmf=KaplanMeierFitter()\n",
    "plt.figure(figsize=(10,6))\n",
    "for group in df['trt'].unique():\n",
    "    label=str(group)\n",
    "    mask=df['trt']==group\n",
    "    kmf.fit(df[mask]['TIME'], event_observed=df[mask]['Y'],label=label)\n",
    "    kmf.plot_survival_function()\n",
    "\n",
    "plt.title('Survival by Treatment Group')\n",
    "plt.xlabel('Time (days)')\n",
    "plt.ylabel('Survival Probability')\n",
    "plt.grid(True)\n",
    "plt.legend(title=\"Treatment\")\n",
    "plt.show()"
   ]
  },
  {
   "cell_type": "code",
   "execution_count": null,
   "id": "6a85a35e-a7d8-452d-a698-2af1d784e07b",
   "metadata": {},
   "outputs": [],
   "source": [
    "print(df['trt'].value_counts())"
   ]
  },
  {
   "cell_type": "code",
   "execution_count": null,
   "id": "eea96117-fdd9-49ac-8701-2334aaeeb2e6",
   "metadata": {},
   "outputs": [],
   "source": [
    "from lifelines.statistics import logrank_test\n",
    "\n",
    "#Assuming 'trt' column has two treatment types (e.g, 1=Standard, 2=Test)\n",
    "group1=df[df['trt']=='standard']\n",
    "group2=df[df['trt']=='test']\n",
    "\n",
    "#Perform the log-rank test using correct event column:'Y'\n",
    "results=logrank_test(\n",
    "    group1['TIME'],group2['TIME'],\n",
    "    event_observed_A=group1['Y'],\n",
    "    event_observed_B=group2['Y']\n",
    ")\n",
    "\n",
    "#Output\n",
    "print(f\"Log-Rank Test p-value: {results.p_value:.4f}\")\n",
    "if results.p_value<0.05:\n",
    "    print(\"-> Significant difference in survival.\")\n",
    "else:\n",
    "    print(\"-> No statistically significant difference.\")"
   ]
  },
  {
   "cell_type": "code",
   "execution_count": null,
   "id": "774008f2-52fb-461d-b94a-3973364efeb9",
   "metadata": {},
   "outputs": [],
   "source": [
    "import pandas as pd\n",
    "from lifelines import CoxPHFitter\n",
    "\n",
    "#Encode categorical variables\n",
    "df_encoded=pd.get_dummies(df,columns=['celltype','trt','priortherapy'],drop_first=True)\n",
    "\n",
    "#Collect celltype dummy variables\n",
    "celltype_dummies=[col for col in df_encoded.columns if col.startswith('celltype_')]\n",
    "treatment_dummies=[col for col in df_encoded.columns if col.startswith('treatment_')]\n",
    "prior_dummies=[col for col in df_encoded.columns if col.startswith('prior_')]\n",
    "\n",
    "#Define final feature set\n",
    "features=['TIME','Y','age','karno','diagtime'] +celltype_dummies +treatment_dummies+prior_dummies\n",
    "\n",
    "#Prepare dataset\n",
    "cox_df=df_encoded[features]\n",
    "\n",
    "#Fit Cox Proportional Hazard Model\n",
    "cph=CoxPHFitter()\n",
    "cph.fit(cox_df,duration_col='TIME',event_col='Y')\n",
    "cph.print_summary()"
   ]
  },
  {
   "cell_type": "code",
   "execution_count": null,
   "id": "8495932e-d52f-4136-8e0b-934a1d5c8411",
   "metadata": {},
   "outputs": [],
   "source": []
  }
 ],
 "metadata": {
  "kernelspec": {
   "display_name": "Python 3 (ipykernel)",
   "language": "python",
   "name": "python3"
  },
  "language_info": {
   "codemirror_mode": {
    "name": "ipython",
    "version": 3
   },
   "file_extension": ".py",
   "mimetype": "text/x-python",
   "name": "python",
   "nbconvert_exporter": "python",
   "pygments_lexer": "ipython3",
   "version": "3.12.5"
  }
 },
 "nbformat": 4,
 "nbformat_minor": 5
}
